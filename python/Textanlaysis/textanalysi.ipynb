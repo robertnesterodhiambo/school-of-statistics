{
 "cells": [
  {
   "cell_type": "markdown",
   "id": "7b6961a9",
   "metadata": {},
   "source": [
    "# Data importation\n",
    "\n",
    "## 🔍 Understanding the Data\n"
   ]
  },
  {
   "cell_type": "code",
   "execution_count": 37,
   "id": "193263c1",
   "metadata": {},
   "outputs": [
    {
     "data": {
      "text/plain": [
       "Index(['review_id', 'customer_name', 'raw_review', 'product', 'rating', 'date',\n",
       "       'cleaned_review', 'review_length'],\n",
       "      dtype='object')"
      ]
     },
     "execution_count": 37,
     "metadata": {},
     "output_type": "execute_result"
    }
   ],
   "source": [
    "import pandas as pd\n",
    "# Show all columns\n",
    "pd.set_option('display.max_columns', None)\n",
    "\n",
    "# Show all rows (be careful with large data!)\n",
    "pd.set_option('display.max_rows', None)\n",
    "\n",
    "# Don't truncate column contents\n",
    "pd.set_option('display.max_colwidth', None)  # For pandas >= 1.0\n",
    "# Prevent scientific notation for numbers\n",
    "pd.set_option('display.float_format', '{:.2f}'.format)\n",
    "data = pd.read_csv(\"~/Downloads/week5_customer_reviews.csv\")\n",
    "data.columns\n",
    "\n"
   ]
  },
  {
   "cell_type": "markdown",
   "id": "ca2605ec",
   "metadata": {},
   "source": [
    "# What are the main columns in the dataset and what does each represent?\n",
    "\n",
    "| Column Name          | Description                                                                                                                                                                     |\n",
    "| -------------------- | ------------------------------------------------------------------------------------------------------------------------------------------------------------------------------- |\n",
    "| **`review_id`**      | A unique identifier for each review. Useful for referencing or tracking specific reviews.                                                                                       |\n",
    "| **`customer_name`**  | The name of the customer who wrote the review. May be useful for analyzing repeat reviewers or customer behavior.                                                               |\n",
    "| **`raw_review`**     | The original review text exactly as written by the customer. May include typos, punctuation, emojis, etc.                                                                       |\n",
    "| **`product`**        | The name or ID of the product being reviewed. Helps group or compare reviews across different products.                                                                         |\n",
    "| **`rating`**         | The numerical rating given by the customer (e.g., from 1 to 5). Useful for sentiment analysis or quality scoring.                                                               |\n",
    "| **`date`**           | The date when the review was written. Useful for time-based analysis or trends.                                                                                                 |\n",
    "| **`cleaned_review`** | The processed version of `raw_review`, typically cleaned by removing stopwords, punctuation, and applying lowercasing, etc. This is what you'd usually use for NLP or modeling. |\n",
    "| **`review_length`**  | The number of words or characters in the cleaned review. Useful for analyzing verbosity or filtering short/long reviews.                                                        |\n"
   ]
  },
  {
   "cell_type": "markdown",
   "id": "7f7d4ad6",
   "metadata": {},
   "source": [
    "## What are some examples of messy elements in the raw_review column?\n",
    "\n",
    "| Row | Messy Elements       | Explanation                                                                   |\n",
    "| --- | -------------------- | ----------------------------------------------------------------------------- |\n",
    "| 0   | `han️️\\@🗑;🔥d`      | Emojis (`🗑`, `🔥`), special characters (`\\@`, `;`), garbled Unicode          |\n",
    "| 1   | `emplo\\(yee on.`     | Escape characters (`\\(`), likely a typo or broken word                        |\n",
    "| 2   | `p~{}#layer`         | Mixed special characters (`~`, `{}`, `#`), corrupted text                     |\n",
    "| 3   | `missi:🙄=\"🔥'#__on` | Emojis (`🙄`, `🔥`), strange punctuation mix (`:=\"🔥'#_`)                     |\n",
    "| 4   | `m~,(!🗑@!:~y`       | Heavy use of punctuation and symbols (`~,(!@!:~`), emoji (`🗑`), broken words |\n"
   ]
  },
  {
   "cell_type": "markdown",
   "id": "0e58600e",
   "metadata": {},
   "source": [
    "## How many unique products are reviewed in the dataset?\n",
    "\n",
    "### ✅ **7 unique products:**\n",
    "\n",
    "1. **Toaster**\n",
    "2. **Smartwatch**\n",
    "3. **Phone Case**\n",
    "4. **Headphones**\n",
    "5. **Shoes**\n",
    "6. **Blender**\n",
    "7. **Mug**\n",
    "\n"
   ]
  },
  {
   "cell_type": "code",
   "execution_count": 38,
   "id": "4ca8336e",
   "metadata": {},
   "outputs": [
    {
     "data": {
      "text/plain": [
       "array(['Toaster', 'Smartwatch', 'Phone Case', 'Headphones', 'Shoes',\n",
       "       'Blender', 'Mug'], dtype=object)"
      ]
     },
     "execution_count": 38,
     "metadata": {},
     "output_type": "execute_result"
    }
   ],
   "source": [
    "data[\"product\"].unique()"
   ]
  },
  {
   "cell_type": "markdown",
   "id": "255b6f0d",
   "metadata": {},
   "source": [
    "# 🧼 Cleaning Tasks\n",
    "\n",
    "## How can you remove all special characters, emojis, and numbers from the raw_review column using Python?\n",
    "\n",
    "You can clean the `raw_review` column in your DataFrame by **removing all special characters, emojis, and numbers** using **regular expressions** in combination with Python string processing tools like `re`.\n",
    "\n",
    "Here's a complete example:\n",
    "\n",
    "---\n",
    "\n",
    "### ✅ **Cleaning Function**\n",
    "\n",
    "```python\n",
    "import re\n",
    "\n",
    "def clean_text(text):\n",
    "    if pd.isnull(text):\n",
    "        return \"\"\n",
    "    \n",
    "    # Remove emojis and non-ASCII characters\n",
    "    text = text.encode('ascii', 'ignore').decode('ascii')\n",
    "    \n",
    "    # Remove special characters and numbers (keep only letters and spaces)\n",
    "    text = re.sub(r'[^A-Za-z\\s]', '', text)\n",
    "    \n",
    "    # Remove extra spaces and lowercase everything\n",
    "    text = re.sub(r'\\s+', ' ', text).strip().lower()\n",
    "    \n",
    "    return text\n",
    "```\n",
    "\n",
    "---\n",
    "\n",
    "### 🧼 **Apply It to `raw_review` Column**\n",
    "\n",
    "```python\n",
    "data['cleaned_review'] = data['raw_review'].apply(clean_text)\n",
    "```\n",
    "\n",
    "\n",
    "\n",
    "\n",
    "\n",
    "## Write a function in Python that strips extra spaces and lowercases the review text.\n",
    "\n",
    "\n",
    "\n",
    "1. **Removes extra spaces** (leading, trailing, and multiple spaces in between words)\n",
    "2. **Converts all characters to lowercase**\n",
    "\n",
    "---\n",
    "\n",
    "### ✅ Function: Strip Extra Spaces & Lowercase\n",
    "\n",
    "```python\n",
    "def clean_basic(text):\n",
    "    if pd.isnull(text):\n",
    "        return \"\"\n",
    "    \n",
    "    # Remove leading/trailing whitespace and reduce multiple spaces to one\n",
    "    cleaned = ' '.join(text.strip().split())\n",
    "    \n",
    "    # Convert to lowercase\n",
    "    return cleaned.lower()\n",
    "```\n",
    "\n",
    "---\n",
    "\n",
    "### 🔄 Apply to Your DataFrame\n",
    "\n",
    "```python\n",
    "data['cleaned_review'] = data['raw_review'].apply(clean_basic)\n",
    "```\n",
    "\n",
    "\n",
    "\n",
    "\n",
    "\n",
    "\n",
    "\n",
    "## What is the difference between raw_review and cleaned_review after text cleaning? Illustrate with 3 examples"
   ]
  },
  {
   "cell_type": "code",
   "execution_count": 39,
   "id": "38a57041",
   "metadata": {},
   "outputs": [],
   "source": [
    "import re\n",
    "\n",
    "def clean_text(text):\n",
    "    if pd.isnull(text):\n",
    "        return \"\"\n",
    "    \n",
    "    # Remove emojis and non-ASCII characters\n",
    "    text = text.encode('ascii', 'ignore').decode('ascii')\n",
    "    \n",
    "    # Remove special characters and numbers (keep only letters and spaces)\n",
    "    text = re.sub(r'[^A-Za-z\\s]', '', text)\n",
    "    \n",
    "    # Remove extra spaces and lowercase everything\n",
    "    text = re.sub(r'\\s+', ' ', text).strip().lower()\n",
    "    \n",
    "    return text\n",
    "data['cleaned_review'] = data['raw_review'].apply(clean_text)\n",
    "\n",
    "\n",
    "\n",
    "\n"
   ]
  },
  {
   "cell_type": "code",
   "execution_count": 40,
   "id": "3cd98f3a",
   "metadata": {},
   "outputs": [],
   "source": [
    "def clean_basic(text):\n",
    "    if pd.isnull(text):\n",
    "        return \"\"\n",
    "    \n",
    "    # Remove leading/trailing whitespace and reduce multiple spaces to one\n",
    "    cleaned = ' '.join(text.strip().split())\n",
    "    \n",
    "    # Convert to lowercase\n",
    "    return cleaned.lower()\n",
    "\n",
    "data['cleaned_review'] =data['cleaned_review'].apply(clean_basic)\n",
    "\n"
   ]
  },
  {
   "cell_type": "markdown",
   "id": "a3f9c247",
   "metadata": {},
   "source": [
    "## 🧮 1. **Compute Number of Words in Each Review**\n",
    "\n",
    "To compute the number of words in each `cleaned_review`:\n",
    "\n",
    "```python\n",
    "# Ensure NaNs don't cause errors\n",
    "data['review_length'] = data['cleaned_review'].fillna('').apply(lambda x: len(x.split()))\n",
    "```\n",
    "\n",
    "This counts how many space-separated tokens (words) are in each review.\n",
    "\n",
    "---\n",
    "\n",
    "## 😄 2. **Categorize Reviews as Positive / Neutral / Negative**\n",
    "\n",
    "You can categorize sentiment based on the `rating` column:\n",
    "\n",
    "```python\n",
    "def get_sentiment(rating):\n",
    "    if rating <= 2:\n",
    "        return 'Negative'\n",
    "    elif rating == 3:\n",
    "        return 'Neutral'\n",
    "    else:\n",
    "        return 'Positive'\n",
    "\n",
    "data['sentiment'] = data['rating'].apply(get_sentiment)\n",
    "```\n",
    "\n",
    "---\n",
    "\n",
    "## 📉 3. **Which Product Got the Most Negative Reviews (rating ≤ 2)?**\n",
    "\n",
    "You can filter and then use `value_counts()`:\n",
    "\n",
    "```python\n",
    "# Filter negative reviews\n",
    "negative_reviews = data[data['rating'] <= 2]\n",
    "\n",
    "# Count by product\n",
    "most_negative_product = negative_reviews['product'].value_counts().idxmax()\n",
    "count = negative_reviews['product'].value_counts().max()\n",
    "\n",
    "print(f\"The product with the most negative reviews is '{most_negative_product}' with {count} reviews.\")\n",
    "```\n",
    "\n",
    "If you want to see **all products ranked** by number of negative reviews:\n",
    "\n",
    "```python\n",
    "print(negative_reviews['product'].value_counts())\n",
    "```\n",
    "\n",
    "---\n"
   ]
  },
  {
   "cell_type": "code",
   "execution_count": 41,
   "id": "43dbf2d9",
   "metadata": {},
   "outputs": [],
   "source": [
    "# Ensure NaNs don't cause errors\n",
    "data['review_length'] = data['cleaned_review'].fillna('').apply(lambda x: len(x.split()))\n",
    "\n",
    "\n",
    "\n",
    "def get_sentiment(rating):\n",
    "    if rating <= 2:\n",
    "        return 'Negative'\n",
    "    elif rating == 3:\n",
    "        return 'Neutral'\n",
    "    else:\n",
    "        return 'Positive'\n",
    "\n",
    "data['sentiment'] = data['rating'].apply(get_sentiment)\n"
   ]
  },
  {
   "cell_type": "code",
   "execution_count": 42,
   "id": "6061580f",
   "metadata": {},
   "outputs": [
    {
     "name": "stdout",
     "output_type": "stream",
     "text": [
      "The product with the most negative reviews is 'Blender' with 316 reviews.\n"
     ]
    }
   ],
   "source": [
    "# Filter negative reviews\n",
    "negative_reviews = data[data['rating'] <= 2]\n",
    "\n",
    "# Count by product\n",
    "most_negative_product = negative_reviews['product'].value_counts().idxmax()\n",
    "count = negative_reviews['product'].value_counts().max()\n",
    "\n",
    "print(f\"The product with the most negative reviews is '{most_negative_product}' with {count} reviews.\")\n"
   ]
  },
  {
   "cell_type": "markdown",
   "id": "fd67d678",
   "metadata": {},
   "source": [
    "\n",
    "## 📊 **Bar Chart: Number of Reviews per Product**\n",
    "\n",
    "### 🔍 Insight:\n",
    "\n",
    "* All products have a **similar number of reviews** (\\~700 each).\n",
    "* This balance suggests that the dataset may have been sampled evenly across products, which is good for **unbiased product comparison**.\n",
    "* Products like **Headphones, Shoes, and Mugs** slightly edge out others in review count, but differences are minor.\n",
    "\n",
    "---\n",
    "\n",
    "## 📦 **Review Length vs Rating (Boxplot)**\n",
    "\n",
    "### 🔍 Insight:\n",
    "\n",
    "* The **median review length is nearly identical across all ratings** (centered around 9 words).\n",
    "* Some 5-star reviews have outliers on the longer end, but overall distribution is **very similar**.\n",
    "* **Conclusion**: There's **no strong relationship between review length and sentiment/rating**.\n",
    "\n",
    "---\n",
    "\n",
    "## 📈 **Correlation & Averages**\n",
    "\n",
    "```text\n",
    "Average review lengths:\n",
    "Negative   9.64\n",
    "Neutral    9.45\n",
    "Positive   9.53\n",
    "\n",
    "Correlation between review length and rating: -0.01\n",
    "```\n",
    "\n",
    "### 🔍 Insight:\n",
    "\n",
    "* The **correlation of -0.01** confirms that **review length and rating are nearly unrelated**.\n",
    "* Slightly longer reviews appear in negative sentiment, but the difference is marginal.\n",
    "\n",
    "---\n",
    "\n",
    "## ✅ Summary\n",
    "\n",
    "| Question                               | Insight                                                        |\n",
    "| -------------------------------------- | -------------------------------------------------------------- |\n",
    "| **Average review length by sentiment** | Very similar across all: \\~9.5 words                           |\n",
    "| **Most-reviewed product**              | Headphones (barely), but all are equally represented           |\n",
    "| **Long reviews = better reviews?**     | **No.** Review length does **not** predict sentiment or rating |\n",
    "\n"
   ]
  },
  {
   "cell_type": "code",
   "execution_count": 43,
   "id": "afe684f4",
   "metadata": {},
   "outputs": [
    {
     "name": "stdout",
     "output_type": "stream",
     "text": [
      "sentiment\n",
      "Negative   9.64\n",
      "Neutral    9.45\n",
      "Positive   9.53\n",
      "Name: review_length, dtype: float64\n"
     ]
    }
   ],
   "source": [
    "avg_length_by_sentiment = data.groupby('sentiment')['review_length'].mean()\n",
    "print(avg_length_by_sentiment)\n"
   ]
  },
  {
   "cell_type": "code",
   "execution_count": 44,
   "id": "1336c655",
   "metadata": {},
   "outputs": [
    {
     "name": "stderr",
     "output_type": "stream",
     "text": [
      "/tmp/ipykernel_73229/2286281743.py:9: FutureWarning: \n",
      "\n",
      "Passing `palette` without assigning `hue` is deprecated and will be removed in v0.14.0. Assign the `x` variable to `hue` and set `legend=False` for the same effect.\n",
      "\n",
      "  sns.barplot(x=product_counts.index, y=product_counts.values, palette='viridis')\n"
     ]
    },
    {
     "data": {
      "image/png": "[encoded data removed]",
      "text/plain": [
       "<Figure size 1000x600 with 1 Axes>"
      ]
     },
     "metadata": {},
     "output_type": "display_data"
    }
   ],
   "source": [
    "import matplotlib.pyplot as plt\n",
    "import seaborn as sns\n",
    "\n",
    "# Count reviews per product\n",
    "product_counts = data['product'].value_counts()\n",
    "\n",
    "# Plot\n",
    "plt.figure(figsize=(10, 6))\n",
    "sns.barplot(x=product_counts.index, y=product_counts.values, palette='viridis')\n",
    "plt.title('Number of Reviews per Product')\n",
    "plt.xlabel('Product')\n",
    "plt.ylabel('Number of Reviews')\n",
    "plt.xticks(rotation=45)\n",
    "plt.tight_layout()\n",
    "plt.show()\n"
   ]
  },
  {
   "cell_type": "code",
   "execution_count": 45,
   "id": "c12818d9",
   "metadata": {},
   "outputs": [
    {
     "name": "stdout",
     "output_type": "stream",
     "text": [
      "Correlation between review length and rating: -0.01\n"
     ]
    }
   ],
   "source": [
    "correlation = data['review_length'].corr(data['rating'])\n",
    "print(f\"Correlation between review length and rating: {correlation:.2f}\")\n"
   ]
  },
  {
   "cell_type": "code",
   "execution_count": 46,
   "id": "2f40bad5",
   "metadata": {},
   "outputs": [
    {
     "name": "stderr",
     "output_type": "stream",
     "text": [
      "/tmp/ipykernel_73229/3781088033.py:2: FutureWarning: \n",
      "\n",
      "Passing `palette` without assigning `hue` is deprecated and will be removed in v0.14.0. Assign the `x` variable to `hue` and set `legend=False` for the same effect.\n",
      "\n",
      "  sns.boxplot(x='rating', y='review_length', data=data, palette='coolwarm')\n"
     ]
    },
    {
     "data": {
      "image/png": "[encoded data removed]",
      "text/plain": [
       "<Figure size 800x600 with 1 Axes>"
      ]
     },
     "metadata": {},
     "output_type": "display_data"
    }
   ],
   "source": [
    "plt.figure(figsize=(8, 6))\n",
    "sns.boxplot(x='rating', y='review_length', data=data, palette='coolwarm')\n",
    "plt.title('Review Length by Rating')\n",
    "plt.xlabel('Rating')\n",
    "plt.ylabel('Review Length (word count)')\n",
    "plt.show()\n"
   ]
  },
  {
   "cell_type": "code",
   "execution_count": null,
   "id": "f945c35a",
   "metadata": {},
   "outputs": [],
   "source": []
  }
 ],
 "metadata": {
  "kernelspec": {
   "display_name": "Python 3",
   "language": "python",
   "name": "python3"
  },
  "language_info": {
   "codemirror_mode": {
    "name": "ipython",
    "version": 3
   },
   "file_extension": ".py",
   "mimetype": "text/x-python",
   "name": "python",
   "nbconvert_exporter": "python",
   "pygments_lexer": "ipython3",
   "version": "3.12.3"
  }
 },
 "nbformat": 4,
 "nbformat_minor": 5
}
